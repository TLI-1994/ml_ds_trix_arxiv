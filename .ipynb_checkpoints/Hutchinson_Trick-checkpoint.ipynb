{
 "cells": [
  {
   "cell_type": "markdown",
   "metadata": {},
   "source": [
    "# Hutchinson's Trick : The Stochastic Trace Estimator\n",
    "Hutchinson's estimator is a simple way to obtain a stochastic estimate of the **trace** of a matrix. This is a simple trick that uses randomization to transform the algebraic problem of computing the trace into the statistical problem of computing an expectation of a quadratic function.\n",
    "<img src=\"http://blog.shakirm.com/wp-content/uploads/2015/09/hutchinson.png\" alt='image does not exist' width=\"600\" height=\"600\" />"
   ]
  },
  {
   "cell_type": "markdown",
   "metadata": {},
   "source": [
    "## Lemma 1: \n",
    "Consider a multivariate random variable $z$ with mean $m$ and variance $\\Sigma$. Using the property of expectations of quadratic forms, the expectation $\\mathbb{E}(zz^T)=\\Sigma+mm^T$.\n",
    "## Proof of Lemma 1:\n",
    "It suffices to recall the following two results:\n",
    "1. $\\mathbb{E}[x_1 x_2] = \\mathbb{E}[x_1] \\mathbb{E}[x_2]$ if $x_1$ and $x_2$ are independent random variables\n",
    "2. $\\mathrm{Var}(x) = \\mathbb{E}[(x - \\mu)^2] = \\mathbb{E}[x^2] - (\\mathbb{E}[x])^2 \\rightarrow \n",
    "\\mathbb{E}[x^2] = \\mathrm{Var}(x) + (\\mathbb{E}[x])^2$\n",
    "\n",
    "The consequence of Lemma 1 is: for zero-mean, unit-variance random variables, $\\mathbb{E}(zz^T)=I$. The following code visualizes this result."
   ]
  },
  {
   "cell_type": "code",
   "execution_count": 1,
   "metadata": {},
   "outputs": [],
   "source": [
    "import numpy as np\n",
    "from numpy.random import random\n",
    "import matplotlib.pyplot as plt\n",
    "\n",
    "n = 1000\n",
    "l = 10\n",
    "\n",
    "z = np.random.randn(n,l,1)"
   ]
  },
  {
   "cell_type": "code",
   "execution_count": 2,
   "metadata": {},
   "outputs": [
    {
     "data": {
      "image/png": "[encoded data removed]",
      "text/plain": [
       "<Figure size 288x288 with 2 Axes>"
      ]
     },
     "metadata": {
      "needs_background": "light"
     },
     "output_type": "display_data"
    }
   ],
   "source": [
    "z[0]*z[0].T\n",
    "plt.matshow(z[0]*z[0].T)\n",
    "plt.colorbar(shrink = 0.8)\n",
    "plt.show()"
   ]
  },
  {
   "cell_type": "code",
   "execution_count": 3,
   "metadata": {
    "scrolled": true
   },
   "outputs": [],
   "source": [
    "ele_sum = np.empty((l,l))\n",
    "for i in range(0,n):\n",
    "    ele_sum = np.add(ele_sum, z[i]*z[i].T)"
   ]
  },
  {
   "cell_type": "code",
   "execution_count": 4,
   "metadata": {
    "scrolled": true
   },
   "outputs": [
    {
     "data": {
      "image/png": "[encoded data removed]",
      "text/plain": [
       "<Figure size 288x288 with 2 Axes>"
      ]
     },
     "metadata": {
      "needs_background": "light"
     },
     "output_type": "display_data"
    }
   ],
   "source": [
    "plt.matshow(np.divide(ele_sum, n))\n",
    "plt.colorbar(shrink = 0.8)\n",
    "plt.show()"
   ]
  },
  {
   "cell_type": "markdown",
   "metadata": {},
   "source": [
    "On the other hand,\n",
    "\\begin{equation}\n",
    "Tr(\\mathbf{A}) =Tr(\\mathbf{A I}) =Tr(\\mathbf{A\\mathbb{E}[\\mathbf{z} \\mathbf{z}^\\top]}) = \\mathbb{E}[Tr( \\mathbf{A} \\mathbf{z} \\mathbf{z}^\\top)]\n",
    "\\end{equation}\n",
    "apply **cyclic property of the trace**, the above equation becomes:\n",
    "\\begin{equation}\n",
    "\\mathbb{E}[Tr(\\mathbf{z}^\\top\\mathbf{A}\\mathbf{z})]\n",
    "\\end{equation}\n",
    "But we notice $\\mathbf{z}^\\top\\mathbf{A}\\mathbf{z}$ is a scaler quantity which indeed is\n",
    "\\begin{equation}\n",
    "\\mathbb{E}[ \\mathbf{z}^\\top\\mathbf{A}\\mathbf{z}]\n",
    "\\end{equation}\n",
    "That is,\n",
    "\\begin{equation}\n",
    "Tr(\\mathbf{A}) = \\mathbb{E}[ \\mathbf{z}^\\top\\mathbf{A}\\mathbf{z}]\n",
    "\\end{equation}\n",
    "\n",
    "See related results on [Quadratic Form](https://en.wikipedia.org/wiki/Quadratic_form_(statistics))"
   ]
  }
 ],
 "metadata": {
  "kernelspec": {
   "display_name": "Python 3",
   "language": "python",
   "name": "python3"
  },
  "language_info": {
   "codemirror_mode": {
    "name": "ipython",
    "version": 3
   },
   "file_extension": ".py",
   "mimetype": "text/x-python",
   "name": "python",
   "nbconvert_exporter": "python",
   "pygments_lexer": "ipython3",
   "version": "3.7.5"
  }
 },
 "nbformat": 4,
 "nbformat_minor": 2
}
